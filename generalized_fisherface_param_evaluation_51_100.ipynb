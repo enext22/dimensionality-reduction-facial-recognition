{
 "cells": [
  {
   "cell_type": "markdown",
   "metadata": {},
   "source": [
    "# Generalized Fisherface Parameter Evaluation ($\\alpha, \\beta$)"
   ]
  },
  {
   "cell_type": "markdown",
   "metadata": {},
   "source": [
    "## Set up"
   ]
  },
  {
   "cell_type": "code",
   "execution_count": 1,
   "metadata": {},
   "outputs": [],
   "source": [
    "import numpy as np\n",
    "import sklearn.pipeline\n",
    "import matplotlib.pyplot as plt\n",
    "\n",
    "from sklearn.decomposition import PCA"
   ]
  },
  {
   "cell_type": "code",
   "execution_count": 2,
   "metadata": {},
   "outputs": [
    {
     "name": "stdout",
     "output_type": "stream",
     "text": [
      "Total dataset size:\n",
      "n_samples:  1288\n",
      "n_features:  1850\n",
      "n_classes:  7\n"
     ]
    }
   ],
   "source": [
    "# load data\n",
    "import sklearn.datasets\n",
    "from sklearn.model_selection import train_test_split\n",
    "\n",
    "\n",
    "lfw_people = sklearn.datasets.fetch_lfw_people(min_faces_per_person=70, resize=0.4)\n",
    "\n",
    "n_samples, h, w = lfw_people.images.shape\n",
    "target_names = lfw_people.target_names\n",
    "n_classes = target_names.shape[0]\n",
    "\n",
    "X = lfw_people.data\n",
    "n_features = X.shape[1]\n",
    "\n",
    "y = lfw_people.target\n",
    "\n",
    "\n",
    "print(\"Total dataset size:\")\n",
    "print(\"n_samples: \",  n_samples)\n",
    "print(\"n_features: \", n_features)\n",
    "print(\"n_classes: \", n_classes)"
   ]
  },
  {
   "cell_type": "code",
   "execution_count": 3,
   "metadata": {},
   "outputs": [],
   "source": [
    "def create_data_split(X, y, test_size=0.2, random_state=None):\n",
    "    '''creates a train-test split and performs preprocessing'''\n",
    "\n",
    "    # split into a training and testing set\n",
    "    from sklearn.model_selection import train_test_split\n",
    "    X_train, X_test, y_train, y_test = train_test_split(X, y, test_size=test_size, random_state=random_state, stratify=y)\n",
    "\n",
    "    # first, scale the data\n",
    "    scaler = sklearn.preprocessing.StandardScaler().fit(X_train)\n",
    "    X_train_trfm = scaler.transform(X_train)\n",
    "    X_test_trfm = scaler.transform(X_test)\n",
    "\n",
    "    return X_train_trfm, X_test_trfm, y_train, y_test"
   ]
  },
  {
   "cell_type": "code",
   "execution_count": 4,
   "metadata": {},
   "outputs": [],
   "source": [
    "def plot_faces(faces, n_cols=3, figsize=(8,6), h=h, w=w):\n",
    "\n",
    "    dim, n_faces = faces.shape\n",
    "    n_rows = n_faces // n_cols\n",
    "    fig, axes = plt.subplots(n_rows, n_cols, figsize=figsize)\n",
    "\n",
    "    for i, ax in enumerate(axes.flatten()):\n",
    "        ax.imshow(faces[:, i].reshape(h,w))\n",
    "\n",
    "    return fig, ax"
   ]
  },
  {
   "cell_type": "code",
   "execution_count": 5,
   "metadata": {},
   "outputs": [],
   "source": [
    "from generalized_fisher_ld import GeneralizedFisherLD"
   ]
  },
  {
   "cell_type": "markdown",
   "metadata": {},
   "source": [
    "## Parameter Evaluation\n",
    "\n",
    "Here, we evaluate the model on different choices for the parameters $(\\alpha, \\beta)$ along the line $\\alpha=\\beta$"
   ]
  },
  {
   "cell_type": "code",
   "execution_count": 6,
   "metadata": {},
   "outputs": [],
   "source": [
    "num_alpha_beta = 51 # number of values for alpha=beta to test. control the resolution of the 'alpha=beta axis'\n",
    "num_trials = 100 # the number of trials (with different data splits) to try on each value of alpha=beta\n",
    "\n",
    "from sklearn.neighbors import KNeighborsClassifier\n",
    "classifier = KNeighborsClassifier # the classifier to use in the model\n",
    "classifier_params = {'n_neighbors': 3} # the parameters to pass into the classifier"
   ]
  },
  {
   "cell_type": "code",
   "execution_count": 7,
   "metadata": {},
   "outputs": [],
   "source": [
    "alpha_betas = np.linspace(0,1, num=num_alpha_beta)\n",
    "\n",
    "train_accs = np.zeros(shape=(num_alpha_beta, num_trials))\n",
    "test_accs = np.zeros(shape=(num_alpha_beta, num_trials))"
   ]
  },
  {
   "cell_type": "code",
   "execution_count": 8,
   "metadata": {},
   "outputs": [
    {
     "data": {
      "application/vnd.jupyter.widget-view+json": {
       "model_id": "c1c9f947f81442e594709d3d525a4764",
       "version_major": 2,
       "version_minor": 0
      },
      "text/plain": [
       "alpha_beta:   0%|          | 0/51 [00:00<?, ?it/s]"
      ]
     },
     "metadata": {},
     "output_type": "display_data"
    },
    {
     "data": {
      "application/vnd.jupyter.widget-view+json": {
       "model_id": "4206557cd3c0410babe9c19dd8fd921a",
       "version_major": 2,
       "version_minor": 0
      },
      "text/plain": [
       "trial:   0%|          | 0/100 [00:00<?, ?it/s]"
      ]
     },
     "metadata": {},
     "output_type": "display_data"
    },
    {
     "data": {
      "application/vnd.jupyter.widget-view+json": {
       "model_id": "22ee8c1be50e49f9b3634da00eddca62",
       "version_major": 2,
       "version_minor": 0
      },
      "text/plain": [
       "trial:   0%|          | 0/100 [00:00<?, ?it/s]"
      ]
     },
     "metadata": {},
     "output_type": "display_data"
    },
    {
     "data": {
      "application/vnd.jupyter.widget-view+json": {
       "model_id": "2b58b8ab335643cd85be3a4368c6cd2b",
       "version_major": 2,
       "version_minor": 0
      },
      "text/plain": [
       "trial:   0%|          | 0/100 [00:00<?, ?it/s]"
      ]
     },
     "metadata": {},
     "output_type": "display_data"
    },
    {
     "data": {
      "application/vnd.jupyter.widget-view+json": {
       "model_id": "d245b50d63ee4ed49e7450cb3a6de0cf",
       "version_major": 2,
       "version_minor": 0
      },
      "text/plain": [
       "trial:   0%|          | 0/100 [00:00<?, ?it/s]"
      ]
     },
     "metadata": {},
     "output_type": "display_data"
    },
    {
     "data": {
      "application/vnd.jupyter.widget-view+json": {
       "model_id": "5e58e58d0a714e1f81f2502610329b7a",
       "version_major": 2,
       "version_minor": 0
      },
      "text/plain": [
       "trial:   0%|          | 0/100 [00:00<?, ?it/s]"
      ]
     },
     "metadata": {},
     "output_type": "display_data"
    },
    {
     "data": {
      "application/vnd.jupyter.widget-view+json": {
       "model_id": "69c109a13cc1402fb8f611b82a9e2b4e",
       "version_major": 2,
       "version_minor": 0
      },
      "text/plain": [
       "trial:   0%|          | 0/100 [00:00<?, ?it/s]"
      ]
     },
     "metadata": {},
     "output_type": "display_data"
    },
    {
     "data": {
      "application/vnd.jupyter.widget-view+json": {
       "model_id": "c0568b2b5f14467da3a0566cef69aae2",
       "version_major": 2,
       "version_minor": 0
      },
      "text/plain": [
       "trial:   0%|          | 0/100 [00:00<?, ?it/s]"
      ]
     },
     "metadata": {},
     "output_type": "display_data"
    },
    {
     "data": {
      "application/vnd.jupyter.widget-view+json": {
       "model_id": "5d3b21b442e84f8690cd40db14d9e84d",
       "version_major": 2,
       "version_minor": 0
      },
      "text/plain": [
       "trial:   0%|          | 0/100 [00:00<?, ?it/s]"
      ]
     },
     "metadata": {},
     "output_type": "display_data"
    },
    {
     "data": {
      "application/vnd.jupyter.widget-view+json": {
       "model_id": "fccd99eb430e498ab09e7867b716069c",
       "version_major": 2,
       "version_minor": 0
      },
      "text/plain": [
       "trial:   0%|          | 0/100 [00:00<?, ?it/s]"
      ]
     },
     "metadata": {},
     "output_type": "display_data"
    },
    {
     "data": {
      "application/vnd.jupyter.widget-view+json": {
       "model_id": "d4160e95c2dd47148531214400be68f3",
       "version_major": 2,
       "version_minor": 0
      },
      "text/plain": [
       "trial:   0%|          | 0/100 [00:00<?, ?it/s]"
      ]
     },
     "metadata": {},
     "output_type": "display_data"
    },
    {
     "data": {
      "application/vnd.jupyter.widget-view+json": {
       "model_id": "465db327860b4920b2574b2a59ea2b56",
       "version_major": 2,
       "version_minor": 0
      },
      "text/plain": [
       "trial:   0%|          | 0/100 [00:00<?, ?it/s]"
      ]
     },
     "metadata": {},
     "output_type": "display_data"
    },
    {
     "data": {
      "application/vnd.jupyter.widget-view+json": {
       "model_id": "1a9f11f857d742f785cb436d41651db3",
       "version_major": 2,
       "version_minor": 0
      },
      "text/plain": [
       "trial:   0%|          | 0/100 [00:00<?, ?it/s]"
      ]
     },
     "metadata": {},
     "output_type": "display_data"
    },
    {
     "data": {
      "application/vnd.jupyter.widget-view+json": {
       "model_id": "093bf859e5ad4d84b9c5ec242df715a7",
       "version_major": 2,
       "version_minor": 0
      },
      "text/plain": [
       "trial:   0%|          | 0/100 [00:00<?, ?it/s]"
      ]
     },
     "metadata": {},
     "output_type": "display_data"
    },
    {
     "data": {
      "application/vnd.jupyter.widget-view+json": {
       "model_id": "1c223d0e8f9a482bb590728a00b98958",
       "version_major": 2,
       "version_minor": 0
      },
      "text/plain": [
       "trial:   0%|          | 0/100 [00:00<?, ?it/s]"
      ]
     },
     "metadata": {},
     "output_type": "display_data"
    },
    {
     "data": {
      "application/vnd.jupyter.widget-view+json": {
       "model_id": "4a19cdfe29344faaaf314f7491edd3e0",
       "version_major": 2,
       "version_minor": 0
      },
      "text/plain": [
       "trial:   0%|          | 0/100 [00:00<?, ?it/s]"
      ]
     },
     "metadata": {},
     "output_type": "display_data"
    },
    {
     "data": {
      "application/vnd.jupyter.widget-view+json": {
       "model_id": "79182a1980354d598195910763af337f",
       "version_major": 2,
       "version_minor": 0
      },
      "text/plain": [
       "trial:   0%|          | 0/100 [00:00<?, ?it/s]"
      ]
     },
     "metadata": {},
     "output_type": "display_data"
    },
    {
     "data": {
      "application/vnd.jupyter.widget-view+json": {
       "model_id": "122b873b4eb545d685ef05abe3f23f34",
       "version_major": 2,
       "version_minor": 0
      },
      "text/plain": [
       "trial:   0%|          | 0/100 [00:00<?, ?it/s]"
      ]
     },
     "metadata": {},
     "output_type": "display_data"
    },
    {
     "data": {
      "application/vnd.jupyter.widget-view+json": {
       "model_id": "3cb0207d98c04a94ab8364200519dcdf",
       "version_major": 2,
       "version_minor": 0
      },
      "text/plain": [
       "trial:   0%|          | 0/100 [00:00<?, ?it/s]"
      ]
     },
     "metadata": {},
     "output_type": "display_data"
    },
    {
     "data": {
      "application/vnd.jupyter.widget-view+json": {
       "model_id": "1389b7c286b440e093c4a335e03b9645",
       "version_major": 2,
       "version_minor": 0
      },
      "text/plain": [
       "trial:   0%|          | 0/100 [00:00<?, ?it/s]"
      ]
     },
     "metadata": {},
     "output_type": "display_data"
    },
    {
     "data": {
      "application/vnd.jupyter.widget-view+json": {
       "model_id": "8e16168e75d14816b61c8caa6faff220",
       "version_major": 2,
       "version_minor": 0
      },
      "text/plain": [
       "trial:   0%|          | 0/100 [00:00<?, ?it/s]"
      ]
     },
     "metadata": {},
     "output_type": "display_data"
    },
    {
     "data": {
      "application/vnd.jupyter.widget-view+json": {
       "model_id": "92dd283510664b39a4d707435f36ae23",
       "version_major": 2,
       "version_minor": 0
      },
      "text/plain": [
       "trial:   0%|          | 0/100 [00:00<?, ?it/s]"
      ]
     },
     "metadata": {},
     "output_type": "display_data"
    },
    {
     "data": {
      "application/vnd.jupyter.widget-view+json": {
       "model_id": "caf7144b9c634c07bacbc8f350395f4b",
       "version_major": 2,
       "version_minor": 0
      },
      "text/plain": [
       "trial:   0%|          | 0/100 [00:00<?, ?it/s]"
      ]
     },
     "metadata": {},
     "output_type": "display_data"
    },
    {
     "data": {
      "application/vnd.jupyter.widget-view+json": {
       "model_id": "53d387c9a0f8456bb43e1967845485f5",
       "version_major": 2,
       "version_minor": 0
      },
      "text/plain": [
       "trial:   0%|          | 0/100 [00:00<?, ?it/s]"
      ]
     },
     "metadata": {},
     "output_type": "display_data"
    },
    {
     "data": {
      "application/vnd.jupyter.widget-view+json": {
       "model_id": "779bf149d47845aea6d157ae59ba8f88",
       "version_major": 2,
       "version_minor": 0
      },
      "text/plain": [
       "trial:   0%|          | 0/100 [00:00<?, ?it/s]"
      ]
     },
     "metadata": {},
     "output_type": "display_data"
    },
    {
     "data": {
      "application/vnd.jupyter.widget-view+json": {
       "model_id": "7b770297c7b04acf9247ba11ca3d57c1",
       "version_major": 2,
       "version_minor": 0
      },
      "text/plain": [
       "trial:   0%|          | 0/100 [00:00<?, ?it/s]"
      ]
     },
     "metadata": {},
     "output_type": "display_data"
    },
    {
     "data": {
      "application/vnd.jupyter.widget-view+json": {
       "model_id": "74ca67c6afac41fc848b6449f3abb51a",
       "version_major": 2,
       "version_minor": 0
      },
      "text/plain": [
       "trial:   0%|          | 0/100 [00:00<?, ?it/s]"
      ]
     },
     "metadata": {},
     "output_type": "display_data"
    },
    {
     "data": {
      "application/vnd.jupyter.widget-view+json": {
       "model_id": "f8a1dec2a53a46dd879e19e7fcbd6c1f",
       "version_major": 2,
       "version_minor": 0
      },
      "text/plain": [
       "trial:   0%|          | 0/100 [00:00<?, ?it/s]"
      ]
     },
     "metadata": {},
     "output_type": "display_data"
    },
    {
     "data": {
      "application/vnd.jupyter.widget-view+json": {
       "model_id": "55de041073324574ad25f5151dd2d886",
       "version_major": 2,
       "version_minor": 0
      },
      "text/plain": [
       "trial:   0%|          | 0/100 [00:00<?, ?it/s]"
      ]
     },
     "metadata": {},
     "output_type": "display_data"
    },
    {
     "data": {
      "application/vnd.jupyter.widget-view+json": {
       "model_id": "346109704952471683ebdfa80c470806",
       "version_major": 2,
       "version_minor": 0
      },
      "text/plain": [
       "trial:   0%|          | 0/100 [00:00<?, ?it/s]"
      ]
     },
     "metadata": {},
     "output_type": "display_data"
    },
    {
     "data": {
      "application/vnd.jupyter.widget-view+json": {
       "model_id": "bb3010dd28de422984a53e36e4740317",
       "version_major": 2,
       "version_minor": 0
      },
      "text/plain": [
       "trial:   0%|          | 0/100 [00:00<?, ?it/s]"
      ]
     },
     "metadata": {},
     "output_type": "display_data"
    },
    {
     "data": {
      "application/vnd.jupyter.widget-view+json": {
       "model_id": "a741ad3bd2934c558df0ddd3084557dd",
       "version_major": 2,
       "version_minor": 0
      },
      "text/plain": [
       "trial:   0%|          | 0/100 [00:00<?, ?it/s]"
      ]
     },
     "metadata": {},
     "output_type": "display_data"
    },
    {
     "data": {
      "application/vnd.jupyter.widget-view+json": {
       "model_id": "034fb30c3be44791afef4dbe121d3aa7",
       "version_major": 2,
       "version_minor": 0
      },
      "text/plain": [
       "trial:   0%|          | 0/100 [00:00<?, ?it/s]"
      ]
     },
     "metadata": {},
     "output_type": "display_data"
    },
    {
     "data": {
      "application/vnd.jupyter.widget-view+json": {
       "model_id": "28ec5f74a1aa48938005683ab7e23f56",
       "version_major": 2,
       "version_minor": 0
      },
      "text/plain": [
       "trial:   0%|          | 0/100 [00:00<?, ?it/s]"
      ]
     },
     "metadata": {},
     "output_type": "display_data"
    },
    {
     "data": {
      "application/vnd.jupyter.widget-view+json": {
       "model_id": "11129b8ce03d4cccb44cde9e4b85d5df",
       "version_major": 2,
       "version_minor": 0
      },
      "text/plain": [
       "trial:   0%|          | 0/100 [00:00<?, ?it/s]"
      ]
     },
     "metadata": {},
     "output_type": "display_data"
    },
    {
     "data": {
      "application/vnd.jupyter.widget-view+json": {
       "model_id": "1d463ce187d84262b24ea33452445456",
       "version_major": 2,
       "version_minor": 0
      },
      "text/plain": [
       "trial:   0%|          | 0/100 [00:00<?, ?it/s]"
      ]
     },
     "metadata": {},
     "output_type": "display_data"
    },
    {
     "data": {
      "application/vnd.jupyter.widget-view+json": {
       "model_id": "8608b6e49e3a4a868d629ccc792d9f72",
       "version_major": 2,
       "version_minor": 0
      },
      "text/plain": [
       "trial:   0%|          | 0/100 [00:00<?, ?it/s]"
      ]
     },
     "metadata": {},
     "output_type": "display_data"
    },
    {
     "data": {
      "application/vnd.jupyter.widget-view+json": {
       "model_id": "1921a265a98e418a9a14c099543b690f",
       "version_major": 2,
       "version_minor": 0
      },
      "text/plain": [
       "trial:   0%|          | 0/100 [00:00<?, ?it/s]"
      ]
     },
     "metadata": {},
     "output_type": "display_data"
    },
    {
     "data": {
      "application/vnd.jupyter.widget-view+json": {
       "model_id": "6f861b6218744703ad39fc677262ae3d",
       "version_major": 2,
       "version_minor": 0
      },
      "text/plain": [
       "trial:   0%|          | 0/100 [00:00<?, ?it/s]"
      ]
     },
     "metadata": {},
     "output_type": "display_data"
    },
    {
     "data": {
      "application/vnd.jupyter.widget-view+json": {
       "model_id": "d9ebfae44c694fd3b7c1a177745b10f4",
       "version_major": 2,
       "version_minor": 0
      },
      "text/plain": [
       "trial:   0%|          | 0/100 [00:00<?, ?it/s]"
      ]
     },
     "metadata": {},
     "output_type": "display_data"
    },
    {
     "data": {
      "application/vnd.jupyter.widget-view+json": {
       "model_id": "08f4b9edc0264121b4b7f616800dbff0",
       "version_major": 2,
       "version_minor": 0
      },
      "text/plain": [
       "trial:   0%|          | 0/100 [00:00<?, ?it/s]"
      ]
     },
     "metadata": {},
     "output_type": "display_data"
    },
    {
     "data": {
      "application/vnd.jupyter.widget-view+json": {
       "model_id": "9d3bedf17d7a4cf4a8218a750b816034",
       "version_major": 2,
       "version_minor": 0
      },
      "text/plain": [
       "trial:   0%|          | 0/100 [00:00<?, ?it/s]"
      ]
     },
     "metadata": {},
     "output_type": "display_data"
    },
    {
     "data": {
      "application/vnd.jupyter.widget-view+json": {
       "model_id": "64edb944d42c4a18909274b6f9a21b54",
       "version_major": 2,
       "version_minor": 0
      },
      "text/plain": [
       "trial:   0%|          | 0/100 [00:00<?, ?it/s]"
      ]
     },
     "metadata": {},
     "output_type": "display_data"
    },
    {
     "data": {
      "application/vnd.jupyter.widget-view+json": {
       "model_id": "52cff142a8234334a8b64a4226e7112a",
       "version_major": 2,
       "version_minor": 0
      },
      "text/plain": [
       "trial:   0%|          | 0/100 [00:00<?, ?it/s]"
      ]
     },
     "metadata": {},
     "output_type": "display_data"
    },
    {
     "data": {
      "application/vnd.jupyter.widget-view+json": {
       "model_id": "7245f040b7274605be1c256577f193c6",
       "version_major": 2,
       "version_minor": 0
      },
      "text/plain": [
       "trial:   0%|          | 0/100 [00:00<?, ?it/s]"
      ]
     },
     "metadata": {},
     "output_type": "display_data"
    },
    {
     "data": {
      "application/vnd.jupyter.widget-view+json": {
       "model_id": "dde525c699894ee4b8959a69f905729e",
       "version_major": 2,
       "version_minor": 0
      },
      "text/plain": [
       "trial:   0%|          | 0/100 [00:00<?, ?it/s]"
      ]
     },
     "metadata": {},
     "output_type": "display_data"
    },
    {
     "data": {
      "application/vnd.jupyter.widget-view+json": {
       "model_id": "76edf68deab542e6ac8b29feff07387e",
       "version_major": 2,
       "version_minor": 0
      },
      "text/plain": [
       "trial:   0%|          | 0/100 [00:00<?, ?it/s]"
      ]
     },
     "metadata": {},
     "output_type": "display_data"
    },
    {
     "data": {
      "application/vnd.jupyter.widget-view+json": {
       "model_id": "a46fa1d219994df59fdcb543edf3973c",
       "version_major": 2,
       "version_minor": 0
      },
      "text/plain": [
       "trial:   0%|          | 0/100 [00:00<?, ?it/s]"
      ]
     },
     "metadata": {},
     "output_type": "display_data"
    },
    {
     "data": {
      "application/vnd.jupyter.widget-view+json": {
       "model_id": "9a440c346e4249f1a6b66151b04b6b31",
       "version_major": 2,
       "version_minor": 0
      },
      "text/plain": [
       "trial:   0%|          | 0/100 [00:00<?, ?it/s]"
      ]
     },
     "metadata": {},
     "output_type": "display_data"
    },
    {
     "data": {
      "application/vnd.jupyter.widget-view+json": {
       "model_id": "9ebc8537a36444f58d6cfcc60c1447ad",
       "version_major": 2,
       "version_minor": 0
      },
      "text/plain": [
       "trial:   0%|          | 0/100 [00:00<?, ?it/s]"
      ]
     },
     "metadata": {},
     "output_type": "display_data"
    },
    {
     "data": {
      "application/vnd.jupyter.widget-view+json": {
       "model_id": "15cba28bd4ee45988fa5a3cce5627f05",
       "version_major": 2,
       "version_minor": 0
      },
      "text/plain": [
       "trial:   0%|          | 0/100 [00:00<?, ?it/s]"
      ]
     },
     "metadata": {},
     "output_type": "display_data"
    },
    {
     "data": {
      "application/vnd.jupyter.widget-view+json": {
       "model_id": "309e12d69d69487881a0e7c1b1517df7",
       "version_major": 2,
       "version_minor": 0
      },
      "text/plain": [
       "trial:   0%|          | 0/100 [00:00<?, ?it/s]"
      ]
     },
     "metadata": {},
     "output_type": "display_data"
    }
   ],
   "source": [
    "from tqdm.notebook import tqdm, trange\n",
    "\n",
    "\n",
    "# skip first because fisherface requires initial pca\n",
    "for i, alpha_beta in enumerate(tqdm(alpha_betas, desc='alpha_beta')):\n",
    "    alpha = beta = alpha_beta\n",
    "\n",
    "    for trial in trange(num_trials, desc='trial', leave=False):\n",
    "\n",
    "        # create data split\n",
    "        X_train_trfm, X_test_trfm, y_train, y_test = create_data_split(X, y, test_size=0.2)\n",
    "\n",
    "        n_samples_train = len(X_train_trfm)\n",
    "        n_classes = len(np.unique(y_train))\n",
    "\n",
    "        # train model\n",
    "\n",
    "        # if alpha=beta=0 (standard fisherface, need to do pca first)\n",
    "        if alpha == beta == 0: \n",
    "            fld_clf = sklearn.pipeline.Pipeline(steps=[('pca', PCA(n_components = n_samples_train - n_classes)),\n",
    "                                            ('gfld', GeneralizedFisherLD(n_components=n_classes - 1, alpha=0, beta=0)),\n",
    "                                            ('clf', classifier(**classifier_params))])\n",
    "\n",
    "            fld_clf.fit(X_train_trfm, y_train)\n",
    "\n",
    "        else:\n",
    "            fld_clf = sklearn.pipeline.Pipeline(steps=[('gfld', GeneralizedFisherLD(n_components=n_classes - 1, \n",
    "                                                                                    alpha=alpha, beta=beta)),\n",
    "                                                    ('clf', classifier(**classifier_params))])\n",
    "\n",
    "            fld_clf.fit(X_train_trfm, y_train)\n",
    "\n",
    "        # log the accuracies\n",
    "        train_accs[i, trial] = fld_clf.score(X_train_trfm, y_train)\n",
    "        test_accs[i, trial] = fld_clf.score(X_test_trfm, y_test)"
   ]
  },
  {
   "cell_type": "code",
   "execution_count": 9,
   "metadata": {},
   "outputs": [],
   "source": [
    "test_acc_avg = np.mean(test_accs, axis=1)\n",
    "test_acc_std = np.std(test_accs, axis=1)"
   ]
  },
  {
   "cell_type": "code",
   "execution_count": 10,
   "metadata": {},
   "outputs": [
    {
     "data": {
      "image/png": "[encoded data removed]",
      "text/plain": [
       "<Figure size 800x480 with 1 Axes>"
      ]
     },
     "metadata": {},
     "output_type": "display_data"
    }
   ],
   "source": [
    "plt.style.use('seaborn')\n",
    "fig, ax = plt.subplots(figsize=(10,6), dpi=80);\n",
    "ax.plot(alpha_betas, test_acc_avg); # line of avg test axx \n",
    "ax.fill_between(alpha_betas, test_acc_avg - test_acc_std, test_acc_avg + test_acc_std, alpha=0.2) # estimate of error\n",
    "\n",
    "ax.set_title('Test Accuracy vs. $\\\\alpha = \\\\beta$');\n",
    "ax.set_xlabel('$\\\\alpha=\\\\beta$');\n",
    "ax.set_ylabel('Test Accuracy');"
   ]
  }
 ],
 "metadata": {
  "interpreter": {
   "hash": "205d50f58f82a2b4d9ed38d5fc136ab30afd6ca8c2e73e92b6068ffbf36380d0"
  },
  "kernelspec": {
   "display_name": "Python 3 (ipykernel)",
   "language": "python",
   "name": "python3"
  },
  "language_info": {
   "codemirror_mode": {
    "name": "ipython",
    "version": 3
   },
   "file_extension": ".py",
   "mimetype": "text/x-python",
   "name": "python",
   "nbconvert_exporter": "python",
   "pygments_lexer": "ipython3",
   "version": "3.9.7"
  }
 },
 "nbformat": 4,
 "nbformat_minor": 2
}
