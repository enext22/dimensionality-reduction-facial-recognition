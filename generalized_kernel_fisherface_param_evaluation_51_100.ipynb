{
 "cells": [
  {
   "cell_type": "markdown",
   "metadata": {},
   "source": [
    "# Generalized (Kernel) Fisherface Parameter Evaluation ($\\alpha, \\beta$)"
   ]
  },
  {
   "cell_type": "markdown",
   "metadata": {},
   "source": [
    "This notebook evaluates Generalized Kernel Fisherface and Generalized Fisherface on a range of the parameters $\\alpha, \\beta$"
   ]
  },
  {
   "cell_type": "markdown",
   "metadata": {},
   "source": [
    "## Set up"
   ]
  },
  {
   "cell_type": "code",
   "execution_count": 1,
   "metadata": {},
   "outputs": [],
   "source": [
    "import numpy as np\n",
    "import sklearn.pipeline\n",
    "import matplotlib.pyplot as plt\n",
    "\n",
    "from sklearn.decomposition import PCA"
   ]
  },
  {
   "cell_type": "code",
   "execution_count": 2,
   "metadata": {},
   "outputs": [
    {
     "name": "stdout",
     "output_type": "stream",
     "text": [
      "Total dataset size:\n",
      "n_samples:  1288\n",
      "n_features:  1850\n",
      "n_classes:  7\n"
     ]
    }
   ],
   "source": [
    "# load data\n",
    "import sklearn.datasets\n",
    "from sklearn.model_selection import train_test_split\n",
    "\n",
    "\n",
    "lfw_people = sklearn.datasets.fetch_lfw_people(min_faces_per_person=70, resize=0.4)\n",
    "\n",
    "n_samples, h, w = lfw_people.images.shape\n",
    "target_names = lfw_people.target_names\n",
    "n_classes = target_names.shape[0]\n",
    "\n",
    "X = lfw_people.data\n",
    "n_features = X.shape[1]\n",
    "\n",
    "y = lfw_people.target\n",
    "\n",
    "\n",
    "print(\"Total dataset size:\")\n",
    "print(\"n_samples: \",  n_samples)\n",
    "print(\"n_features: \", n_features)\n",
    "print(\"n_classes: \", n_classes)"
   ]
  },
  {
   "cell_type": "code",
   "execution_count": 3,
   "metadata": {},
   "outputs": [],
   "source": [
    "def create_data_split(X, y, test_size=0.2, random_state=None):\n",
    "    '''creates a train-test split and performs preprocessing'''\n",
    "\n",
    "    # split into a training and testing set\n",
    "    from sklearn.model_selection import train_test_split\n",
    "    X_train, X_test, y_train, y_test = train_test_split(X, y, test_size=test_size, random_state=random_state, stratify=y)\n",
    "\n",
    "    # first, scale the data\n",
    "    scaler = sklearn.preprocessing.StandardScaler().fit(X_train)\n",
    "    X_train_trfm = scaler.transform(X_train)\n",
    "    X_test_trfm = scaler.transform(X_test)\n",
    "\n",
    "    return X_train_trfm, X_test_trfm, y_train, y_test"
   ]
  },
  {
   "cell_type": "code",
   "execution_count": 4,
   "metadata": {},
   "outputs": [],
   "source": [
    "def plot_faces(faces, n_cols=3, figsize=(8,6), h=h, w=w):\n",
    "\n",
    "    dim, n_faces = faces.shape\n",
    "    n_rows = n_faces // n_cols\n",
    "    fig, axes = plt.subplots(n_rows, n_cols, figsize=figsize)\n",
    "\n",
    "    for i, ax in enumerate(axes.flatten()):\n",
    "        ax.imshow(faces[:, i].reshape(h,w))\n",
    "\n",
    "    return fig, ax"
   ]
  },
  {
   "cell_type": "code",
   "execution_count": 5,
   "metadata": {},
   "outputs": [],
   "source": [
    "from generalized_fisher_ld import GeneralizedFisherLD\n",
    "from generalized_kernel_fisher_discriminant import GeneralizedKernelFisherLD"
   ]
  },
  {
   "cell_type": "markdown",
   "metadata": {},
   "source": [
    "## Parameter Evaluation\n",
    "\n",
    "Here, we evaluate the model on different choices for the parameters $(\\alpha, \\beta)$ along the line $\\alpha=\\beta$"
   ]
  },
  {
   "cell_type": "code",
   "execution_count": 6,
   "metadata": {},
   "outputs": [],
   "source": [
    "num_alpha_beta = 51 # number of values for alpha=beta to test. control the resolution of the 'alpha=beta axis'\n",
    "num_trials = 100 # the number of trials (with different data splits) to try on each value of alpha=beta\n",
    "\n",
    "from sklearn.neighbors import KNeighborsClassifier\n",
    "classifier = KNeighborsClassifier # the classifier to use in the model\n",
    "classifier_params = {'n_neighbors': 3} # the parameters to pass into the classifier"
   ]
  },
  {
   "cell_type": "code",
   "execution_count": 7,
   "metadata": {},
   "outputs": [],
   "source": [
    "alpha_betas = np.linspace(0,1, num=num_alpha_beta)"
   ]
  },
  {
   "cell_type": "code",
   "execution_count": 8,
   "metadata": {},
   "outputs": [
    {
     "data": {
      "application/vnd.jupyter.widget-view+json": {
       "model_id": "89f992e465cb4d1f8093a4a593683c95",
       "version_major": 2,
       "version_minor": 0
      },
      "text/plain": [
       "alpha_beta:   0%|          | 0/51 [00:00<?, ?it/s]"
      ]
     },
     "metadata": {},
     "output_type": "display_data"
    },
    {
     "data": {
      "application/vnd.jupyter.widget-view+json": {
       "model_id": "f565e87455164563acc82ea840995855",
       "version_major": 2,
       "version_minor": 0
      },
      "text/plain": [
       "trial:   0%|          | 0/100 [00:00<?, ?it/s]"
      ]
     },
     "metadata": {},
     "output_type": "display_data"
    },
    {
     "data": {
      "application/vnd.jupyter.widget-view+json": {
       "model_id": "fd644fc877a047bd865058b3909d5a75",
       "version_major": 2,
       "version_minor": 0
      },
      "text/plain": [
       "trial:   0%|          | 0/100 [00:00<?, ?it/s]"
      ]
     },
     "metadata": {},
     "output_type": "display_data"
    },
    {
     "data": {
      "application/vnd.jupyter.widget-view+json": {
       "model_id": "1169a4e32ee24a4ea758f9302c6b38c9",
       "version_major": 2,
       "version_minor": 0
      },
      "text/plain": [
       "trial:   0%|          | 0/100 [00:00<?, ?it/s]"
      ]
     },
     "metadata": {},
     "output_type": "display_data"
    },
    {
     "data": {
      "application/vnd.jupyter.widget-view+json": {
       "model_id": "378aac9fd54348419bb1357b74290784",
       "version_major": 2,
       "version_minor": 0
      },
      "text/plain": [
       "trial:   0%|          | 0/100 [00:00<?, ?it/s]"
      ]
     },
     "metadata": {},
     "output_type": "display_data"
    },
    {
     "data": {
      "application/vnd.jupyter.widget-view+json": {
       "model_id": "0f6b0bfac9c548e78b2be468521d2ad3",
       "version_major": 2,
       "version_minor": 0
      },
      "text/plain": [
       "trial:   0%|          | 0/100 [00:00<?, ?it/s]"
      ]
     },
     "metadata": {},
     "output_type": "display_data"
    },
    {
     "data": {
      "application/vnd.jupyter.widget-view+json": {
       "model_id": "40e80f5afe8c424694a511eb9d7d31ac",
       "version_major": 2,
       "version_minor": 0
      },
      "text/plain": [
       "trial:   0%|          | 0/100 [00:00<?, ?it/s]"
      ]
     },
     "metadata": {},
     "output_type": "display_data"
    },
    {
     "data": {
      "application/vnd.jupyter.widget-view+json": {
       "model_id": "42e95086e9d746af833f9ed98cf1af99",
       "version_major": 2,
       "version_minor": 0
      },
      "text/plain": [
       "trial:   0%|          | 0/100 [00:00<?, ?it/s]"
      ]
     },
     "metadata": {},
     "output_type": "display_data"
    },
    {
     "data": {
      "application/vnd.jupyter.widget-view+json": {
       "model_id": "4414cd6869fc42dfaab0c1732a0dc783",
       "version_major": 2,
       "version_minor": 0
      },
      "text/plain": [
       "trial:   0%|          | 0/100 [00:00<?, ?it/s]"
      ]
     },
     "metadata": {},
     "output_type": "display_data"
    },
    {
     "data": {
      "application/vnd.jupyter.widget-view+json": {
       "model_id": "b91ab0af22954760814b05696326de31",
       "version_major": 2,
       "version_minor": 0
      },
      "text/plain": [
       "trial:   0%|          | 0/100 [00:00<?, ?it/s]"
      ]
     },
     "metadata": {},
     "output_type": "display_data"
    },
    {
     "data": {
      "application/vnd.jupyter.widget-view+json": {
       "model_id": "884f04159e1a4519bd635a28c34f3059",
       "version_major": 2,
       "version_minor": 0
      },
      "text/plain": [
       "trial:   0%|          | 0/100 [00:00<?, ?it/s]"
      ]
     },
     "metadata": {},
     "output_type": "display_data"
    },
    {
     "data": {
      "application/vnd.jupyter.widget-view+json": {
       "model_id": "b79f53d098df43b497e6d873b710c5b9",
       "version_major": 2,
       "version_minor": 0
      },
      "text/plain": [
       "trial:   0%|          | 0/100 [00:00<?, ?it/s]"
      ]
     },
     "metadata": {},
     "output_type": "display_data"
    },
    {
     "data": {
      "application/vnd.jupyter.widget-view+json": {
       "model_id": "52da2959f7244671b2f2d4377a56d56d",
       "version_major": 2,
       "version_minor": 0
      },
      "text/plain": [
       "trial:   0%|          | 0/100 [00:00<?, ?it/s]"
      ]
     },
     "metadata": {},
     "output_type": "display_data"
    },
    {
     "data": {
      "application/vnd.jupyter.widget-view+json": {
       "model_id": "234c4070f02845d3965183485618c186",
       "version_major": 2,
       "version_minor": 0
      },
      "text/plain": [
       "trial:   0%|          | 0/100 [00:00<?, ?it/s]"
      ]
     },
     "metadata": {},
     "output_type": "display_data"
    },
    {
     "data": {
      "application/vnd.jupyter.widget-view+json": {
       "model_id": "843416c858884e8485d37251ffc07488",
       "version_major": 2,
       "version_minor": 0
      },
      "text/plain": [
       "trial:   0%|          | 0/100 [00:00<?, ?it/s]"
      ]
     },
     "metadata": {},
     "output_type": "display_data"
    },
    {
     "data": {
      "application/vnd.jupyter.widget-view+json": {
       "model_id": "278a9e3a8c4d439c949a335e2a7879d7",
       "version_major": 2,
       "version_minor": 0
      },
      "text/plain": [
       "trial:   0%|          | 0/100 [00:00<?, ?it/s]"
      ]
     },
     "metadata": {},
     "output_type": "display_data"
    },
    {
     "data": {
      "application/vnd.jupyter.widget-view+json": {
       "model_id": "8f74fb57a4d54b1da30f5dbe2af8aa4e",
       "version_major": 2,
       "version_minor": 0
      },
      "text/plain": [
       "trial:   0%|          | 0/100 [00:00<?, ?it/s]"
      ]
     },
     "metadata": {},
     "output_type": "display_data"
    },
    {
     "data": {
      "application/vnd.jupyter.widget-view+json": {
       "model_id": "597fb3c1003c47ff9e09c203230b01f9",
       "version_major": 2,
       "version_minor": 0
      },
      "text/plain": [
       "trial:   0%|          | 0/100 [00:00<?, ?it/s]"
      ]
     },
     "metadata": {},
     "output_type": "display_data"
    },
    {
     "data": {
      "application/vnd.jupyter.widget-view+json": {
       "model_id": "e606de078ab141abaac456c0dc5ddd33",
       "version_major": 2,
       "version_minor": 0
      },
      "text/plain": [
       "trial:   0%|          | 0/100 [00:00<?, ?it/s]"
      ]
     },
     "metadata": {},
     "output_type": "display_data"
    },
    {
     "data": {
      "application/vnd.jupyter.widget-view+json": {
       "model_id": "6e3b054df1414bb09358fc2894f99f45",
       "version_major": 2,
       "version_minor": 0
      },
      "text/plain": [
       "trial:   0%|          | 0/100 [00:00<?, ?it/s]"
      ]
     },
     "metadata": {},
     "output_type": "display_data"
    },
    {
     "data": {
      "application/vnd.jupyter.widget-view+json": {
       "model_id": "566a00b9b0d745f8b7521c662fbfb64b",
       "version_major": 2,
       "version_minor": 0
      },
      "text/plain": [
       "trial:   0%|          | 0/100 [00:00<?, ?it/s]"
      ]
     },
     "metadata": {},
     "output_type": "display_data"
    },
    {
     "data": {
      "application/vnd.jupyter.widget-view+json": {
       "model_id": "ce7ab3a185ed4dedb3a405d44d7a99fa",
       "version_major": 2,
       "version_minor": 0
      },
      "text/plain": [
       "trial:   0%|          | 0/100 [00:00<?, ?it/s]"
      ]
     },
     "metadata": {},
     "output_type": "display_data"
    },
    {
     "data": {
      "application/vnd.jupyter.widget-view+json": {
       "model_id": "a7e844a6c05949e7834fad1ffab12953",
       "version_major": 2,
       "version_minor": 0
      },
      "text/plain": [
       "trial:   0%|          | 0/100 [00:00<?, ?it/s]"
      ]
     },
     "metadata": {},
     "output_type": "display_data"
    },
    {
     "data": {
      "application/vnd.jupyter.widget-view+json": {
       "model_id": "047b1bda862a482fa4ca575e08b3bead",
       "version_major": 2,
       "version_minor": 0
      },
      "text/plain": [
       "trial:   0%|          | 0/100 [00:00<?, ?it/s]"
      ]
     },
     "metadata": {},
     "output_type": "display_data"
    },
    {
     "data": {
      "application/vnd.jupyter.widget-view+json": {
       "model_id": "4c552869915745a88b7f3fde33375161",
       "version_major": 2,
       "version_minor": 0
      },
      "text/plain": [
       "trial:   0%|          | 0/100 [00:00<?, ?it/s]"
      ]
     },
     "metadata": {},
     "output_type": "display_data"
    },
    {
     "data": {
      "application/vnd.jupyter.widget-view+json": {
       "model_id": "6a22d7132d72486ebec074a514ca9bdd",
       "version_major": 2,
       "version_minor": 0
      },
      "text/plain": [
       "trial:   0%|          | 0/100 [00:00<?, ?it/s]"
      ]
     },
     "metadata": {},
     "output_type": "display_data"
    },
    {
     "data": {
      "application/vnd.jupyter.widget-view+json": {
       "model_id": "ebe396ab601247e3a1f5cc17a28ceb2c",
       "version_major": 2,
       "version_minor": 0
      },
      "text/plain": [
       "trial:   0%|          | 0/100 [00:00<?, ?it/s]"
      ]
     },
     "metadata": {},
     "output_type": "display_data"
    },
    {
     "data": {
      "application/vnd.jupyter.widget-view+json": {
       "model_id": "b07d5c1ce826406ba82a8817afaf9a00",
       "version_major": 2,
       "version_minor": 0
      },
      "text/plain": [
       "trial:   0%|          | 0/100 [00:00<?, ?it/s]"
      ]
     },
     "metadata": {},
     "output_type": "display_data"
    },
    {
     "data": {
      "application/vnd.jupyter.widget-view+json": {
       "model_id": "f3b70d29418a41b9b5aa37e7eeeb7a98",
       "version_major": 2,
       "version_minor": 0
      },
      "text/plain": [
       "trial:   0%|          | 0/100 [00:00<?, ?it/s]"
      ]
     },
     "metadata": {},
     "output_type": "display_data"
    },
    {
     "data": {
      "application/vnd.jupyter.widget-view+json": {
       "model_id": "29d3d825cdc64f918b16e0bcbf8c9c12",
       "version_major": 2,
       "version_minor": 0
      },
      "text/plain": [
       "trial:   0%|          | 0/100 [00:00<?, ?it/s]"
      ]
     },
     "metadata": {},
     "output_type": "display_data"
    },
    {
     "data": {
      "application/vnd.jupyter.widget-view+json": {
       "model_id": "1797e4c601c6425b942f4bb972406c77",
       "version_major": 2,
       "version_minor": 0
      },
      "text/plain": [
       "trial:   0%|          | 0/100 [00:00<?, ?it/s]"
      ]
     },
     "metadata": {},
     "output_type": "display_data"
    },
    {
     "data": {
      "application/vnd.jupyter.widget-view+json": {
       "model_id": "fb0a45d933104194b48d116def971935",
       "version_major": 2,
       "version_minor": 0
      },
      "text/plain": [
       "trial:   0%|          | 0/100 [00:00<?, ?it/s]"
      ]
     },
     "metadata": {},
     "output_type": "display_data"
    },
    {
     "data": {
      "application/vnd.jupyter.widget-view+json": {
       "model_id": "fb818fed38354486b40e020d502993a3",
       "version_major": 2,
       "version_minor": 0
      },
      "text/plain": [
       "trial:   0%|          | 0/100 [00:00<?, ?it/s]"
      ]
     },
     "metadata": {},
     "output_type": "display_data"
    },
    {
     "data": {
      "application/vnd.jupyter.widget-view+json": {
       "model_id": "ffa06131860145978b5c554c5605bf17",
       "version_major": 2,
       "version_minor": 0
      },
      "text/plain": [
       "trial:   0%|          | 0/100 [00:00<?, ?it/s]"
      ]
     },
     "metadata": {},
     "output_type": "display_data"
    },
    {
     "data": {
      "application/vnd.jupyter.widget-view+json": {
       "model_id": "59eaae39714c44d9bc7619f186f8ed06",
       "version_major": 2,
       "version_minor": 0
      },
      "text/plain": [
       "trial:   0%|          | 0/100 [00:00<?, ?it/s]"
      ]
     },
     "metadata": {},
     "output_type": "display_data"
    },
    {
     "data": {
      "application/vnd.jupyter.widget-view+json": {
       "model_id": "113c45ffe4eb4d41868a23de158c3586",
       "version_major": 2,
       "version_minor": 0
      },
      "text/plain": [
       "trial:   0%|          | 0/100 [00:00<?, ?it/s]"
      ]
     },
     "metadata": {},
     "output_type": "display_data"
    },
    {
     "data": {
      "application/vnd.jupyter.widget-view+json": {
       "model_id": "cdd282bf9d1a444abf5f220b47b328ac",
       "version_major": 2,
       "version_minor": 0
      },
      "text/plain": [
       "trial:   0%|          | 0/100 [00:00<?, ?it/s]"
      ]
     },
     "metadata": {},
     "output_type": "display_data"
    },
    {
     "data": {
      "application/vnd.jupyter.widget-view+json": {
       "model_id": "58c5ba5efa8140cfb9eb74ed849d40a8",
       "version_major": 2,
       "version_minor": 0
      },
      "text/plain": [
       "trial:   0%|          | 0/100 [00:00<?, ?it/s]"
      ]
     },
     "metadata": {},
     "output_type": "display_data"
    },
    {
     "data": {
      "application/vnd.jupyter.widget-view+json": {
       "model_id": "48948c5603c6491a84019b6b6999b3c7",
       "version_major": 2,
       "version_minor": 0
      },
      "text/plain": [
       "trial:   0%|          | 0/100 [00:00<?, ?it/s]"
      ]
     },
     "metadata": {},
     "output_type": "display_data"
    },
    {
     "data": {
      "application/vnd.jupyter.widget-view+json": {
       "model_id": "3267f9af7ce14de2b2d42728bb0ea433",
       "version_major": 2,
       "version_minor": 0
      },
      "text/plain": [
       "trial:   0%|          | 0/100 [00:00<?, ?it/s]"
      ]
     },
     "metadata": {},
     "output_type": "display_data"
    },
    {
     "data": {
      "application/vnd.jupyter.widget-view+json": {
       "model_id": "2441f8e497a24c2dbbb9624b11063b58",
       "version_major": 2,
       "version_minor": 0
      },
      "text/plain": [
       "trial:   0%|          | 0/100 [00:00<?, ?it/s]"
      ]
     },
     "metadata": {},
     "output_type": "display_data"
    },
    {
     "data": {
      "application/vnd.jupyter.widget-view+json": {
       "model_id": "bd389a2e0aa74a40a5366bc17068d24d",
       "version_major": 2,
       "version_minor": 0
      },
      "text/plain": [
       "trial:   0%|          | 0/100 [00:00<?, ?it/s]"
      ]
     },
     "metadata": {},
     "output_type": "display_data"
    },
    {
     "data": {
      "application/vnd.jupyter.widget-view+json": {
       "model_id": "f0c1c2ba925641e9837eef0d2b36a51e",
       "version_major": 2,
       "version_minor": 0
      },
      "text/plain": [
       "trial:   0%|          | 0/100 [00:00<?, ?it/s]"
      ]
     },
     "metadata": {},
     "output_type": "display_data"
    },
    {
     "data": {
      "application/vnd.jupyter.widget-view+json": {
       "model_id": "82cf0d59bd404b1d9ec9297349d7a852",
       "version_major": 2,
       "version_minor": 0
      },
      "text/plain": [
       "trial:   0%|          | 0/100 [00:00<?, ?it/s]"
      ]
     },
     "metadata": {},
     "output_type": "display_data"
    },
    {
     "data": {
      "application/vnd.jupyter.widget-view+json": {
       "model_id": "7899eadae5504d17982a5cb2e01fd843",
       "version_major": 2,
       "version_minor": 0
      },
      "text/plain": [
       "trial:   0%|          | 0/100 [00:00<?, ?it/s]"
      ]
     },
     "metadata": {},
     "output_type": "display_data"
    },
    {
     "data": {
      "application/vnd.jupyter.widget-view+json": {
       "model_id": "b8902744fa044429beac835766710f90",
       "version_major": 2,
       "version_minor": 0
      },
      "text/plain": [
       "trial:   0%|          | 0/100 [00:00<?, ?it/s]"
      ]
     },
     "metadata": {},
     "output_type": "display_data"
    },
    {
     "data": {
      "application/vnd.jupyter.widget-view+json": {
       "model_id": "c75929384698414dbebda8eef1680c29",
       "version_major": 2,
       "version_minor": 0
      },
      "text/plain": [
       "trial:   0%|          | 0/100 [00:00<?, ?it/s]"
      ]
     },
     "metadata": {},
     "output_type": "display_data"
    },
    {
     "data": {
      "application/vnd.jupyter.widget-view+json": {
       "model_id": "a5184bc6e5294489a2c70687b82427bd",
       "version_major": 2,
       "version_minor": 0
      },
      "text/plain": [
       "trial:   0%|          | 0/100 [00:00<?, ?it/s]"
      ]
     },
     "metadata": {},
     "output_type": "display_data"
    },
    {
     "data": {
      "application/vnd.jupyter.widget-view+json": {
       "model_id": "6fe2ee863b2045e3af7d00701bda6ddd",
       "version_major": 2,
       "version_minor": 0
      },
      "text/plain": [
       "trial:   0%|          | 0/100 [00:00<?, ?it/s]"
      ]
     },
     "metadata": {},
     "output_type": "display_data"
    },
    {
     "data": {
      "application/vnd.jupyter.widget-view+json": {
       "model_id": "049d9670924c438590e58974e2f40858",
       "version_major": 2,
       "version_minor": 0
      },
      "text/plain": [
       "trial:   0%|          | 0/100 [00:00<?, ?it/s]"
      ]
     },
     "metadata": {},
     "output_type": "display_data"
    },
    {
     "data": {
      "application/vnd.jupyter.widget-view+json": {
       "model_id": "4a8a2577929a486b8baa6e54ecc95b60",
       "version_major": 2,
       "version_minor": 0
      },
      "text/plain": [
       "trial:   0%|          | 0/100 [00:00<?, ?it/s]"
      ]
     },
     "metadata": {},
     "output_type": "display_data"
    },
    {
     "data": {
      "application/vnd.jupyter.widget-view+json": {
       "model_id": "38ce61b483334d7f9b1345723a441218",
       "version_major": 2,
       "version_minor": 0
      },
      "text/plain": [
       "trial:   0%|          | 0/100 [00:00<?, ?it/s]"
      ]
     },
     "metadata": {},
     "output_type": "display_data"
    }
   ],
   "source": [
    "# Generalized Fisher LD\n",
    "from tqdm.notebook import tqdm, trange\n",
    "\n",
    "train_accs = np.zeros(shape=(num_alpha_beta, num_trials))\n",
    "test_accs = np.zeros(shape=(num_alpha_beta, num_trials))\n",
    "\n",
    "for i, alpha_beta in enumerate(tqdm(alpha_betas, desc='alpha_beta')):\n",
    "    alpha = beta = alpha_beta\n",
    "\n",
    "    for trial in trange(num_trials, desc='trial', leave=False):\n",
    "\n",
    "        # create data split\n",
    "        X_train_trfm, X_test_trfm, y_train, y_test = create_data_split(X, y, test_size=0.2)\n",
    "\n",
    "        n_samples_train = len(X_train_trfm)\n",
    "        n_classes = len(np.unique(y_train))\n",
    "\n",
    "        # train model\n",
    "\n",
    "        # if alpha=beta=0 (standard fisherface, need to do pca first)\n",
    "        if alpha == beta == 0:\n",
    "            fld_clf = sklearn.pipeline.Pipeline(steps=[('pca', PCA(n_components = n_samples_train - n_classes)),\n",
    "                                            ('gfld', GeneralizedFisherLD(n_components=n_classes - 1, alpha=0, beta=0)),\n",
    "                                            ('clf', classifier(**classifier_params))])\n",
    "\n",
    "            fld_clf.fit(X_train_trfm, y_train)\n",
    "\n",
    "        else:\n",
    "            fld_clf = sklearn.pipeline.Pipeline(steps=[('gfld', GeneralizedFisherLD(n_components=n_classes - 1, \n",
    "                                                                                    alpha=alpha, beta=beta)),\n",
    "                                                    ('clf', classifier(**classifier_params))])\n",
    "\n",
    "            fld_clf.fit(X_train_trfm, y_train)\n",
    "\n",
    "        # log the accuracies\n",
    "        train_accs[i, trial] = fld_clf.score(X_train_trfm, y_train)\n",
    "        test_accs[i, trial] = fld_clf.score(X_test_trfm, y_test)\n",
    "\n",
    "fisher_results = (np.copy(train_accs), np.copy(test_accs))"
   ]
  },
  {
   "cell_type": "code",
   "execution_count": 9,
   "metadata": {},
   "outputs": [
    {
     "data": {
      "application/vnd.jupyter.widget-view+json": {
       "model_id": "02e1fbf7d59f4802813f11a9f211267b",
       "version_major": 2,
       "version_minor": 0
      },
      "text/plain": [
       "alpha_beta:   0%|          | 0/51 [00:00<?, ?it/s]"
      ]
     },
     "metadata": {},
     "output_type": "display_data"
    },
    {
     "data": {
      "application/vnd.jupyter.widget-view+json": {
       "model_id": "75438626e867443e92550fe8d2af42c9",
       "version_major": 2,
       "version_minor": 0
      },
      "text/plain": [
       "trial:   0%|          | 0/100 [00:00<?, ?it/s]"
      ]
     },
     "metadata": {},
     "output_type": "display_data"
    },
    {
     "data": {
      "application/vnd.jupyter.widget-view+json": {
       "model_id": "7c39328c57584803b376bb70c24216fc",
       "version_major": 2,
       "version_minor": 0
      },
      "text/plain": [
       "trial:   0%|          | 0/100 [00:00<?, ?it/s]"
      ]
     },
     "metadata": {},
     "output_type": "display_data"
    },
    {
     "data": {
      "application/vnd.jupyter.widget-view+json": {
       "model_id": "5f2eefdbb86f4d1594bf75f45a3f16c2",
       "version_major": 2,
       "version_minor": 0
      },
      "text/plain": [
       "trial:   0%|          | 0/100 [00:00<?, ?it/s]"
      ]
     },
     "metadata": {},
     "output_type": "display_data"
    },
    {
     "data": {
      "application/vnd.jupyter.widget-view+json": {
       "model_id": "f28fcebd1d3346569ae803c46bc8ecdc",
       "version_major": 2,
       "version_minor": 0
      },
      "text/plain": [
       "trial:   0%|          | 0/100 [00:00<?, ?it/s]"
      ]
     },
     "metadata": {},
     "output_type": "display_data"
    },
    {
     "data": {
      "application/vnd.jupyter.widget-view+json": {
       "model_id": "46b4d784bdf54f29955d2eddb70ba030",
       "version_major": 2,
       "version_minor": 0
      },
      "text/plain": [
       "trial:   0%|          | 0/100 [00:00<?, ?it/s]"
      ]
     },
     "metadata": {},
     "output_type": "display_data"
    },
    {
     "data": {
      "application/vnd.jupyter.widget-view+json": {
       "model_id": "4d365f61e2b04d199b9560dbb1b24d76",
       "version_major": 2,
       "version_minor": 0
      },
      "text/plain": [
       "trial:   0%|          | 0/100 [00:00<?, ?it/s]"
      ]
     },
     "metadata": {},
     "output_type": "display_data"
    },
    {
     "data": {
      "application/vnd.jupyter.widget-view+json": {
       "model_id": "94ebd88c07b24f0780dfa01b6bd3d361",
       "version_major": 2,
       "version_minor": 0
      },
      "text/plain": [
       "trial:   0%|          | 0/100 [00:00<?, ?it/s]"
      ]
     },
     "metadata": {},
     "output_type": "display_data"
    },
    {
     "data": {
      "application/vnd.jupyter.widget-view+json": {
       "model_id": "4626bc8a1eba461fabf8dd4672111da0",
       "version_major": 2,
       "version_minor": 0
      },
      "text/plain": [
       "trial:   0%|          | 0/100 [00:00<?, ?it/s]"
      ]
     },
     "metadata": {},
     "output_type": "display_data"
    },
    {
     "data": {
      "application/vnd.jupyter.widget-view+json": {
       "model_id": "028b7ff821694c0cad1262769401429a",
       "version_major": 2,
       "version_minor": 0
      },
      "text/plain": [
       "trial:   0%|          | 0/100 [00:00<?, ?it/s]"
      ]
     },
     "metadata": {},
     "output_type": "display_data"
    },
    {
     "data": {
      "application/vnd.jupyter.widget-view+json": {
       "model_id": "5e649ee2c41a4d74ade7bc2441e1612c",
       "version_major": 2,
       "version_minor": 0
      },
      "text/plain": [
       "trial:   0%|          | 0/100 [00:00<?, ?it/s]"
      ]
     },
     "metadata": {},
     "output_type": "display_data"
    },
    {
     "data": {
      "application/vnd.jupyter.widget-view+json": {
       "model_id": "33e1494afa4c48f99675b0ae40100feb",
       "version_major": 2,
       "version_minor": 0
      },
      "text/plain": [
       "trial:   0%|          | 0/100 [00:00<?, ?it/s]"
      ]
     },
     "metadata": {},
     "output_type": "display_data"
    },
    {
     "data": {
      "application/vnd.jupyter.widget-view+json": {
       "model_id": "a59d474058984c8ea828bef954ec295b",
       "version_major": 2,
       "version_minor": 0
      },
      "text/plain": [
       "trial:   0%|          | 0/100 [00:00<?, ?it/s]"
      ]
     },
     "metadata": {},
     "output_type": "display_data"
    },
    {
     "data": {
      "application/vnd.jupyter.widget-view+json": {
       "model_id": "60b5123f1cdf4645a42880859087bc10",
       "version_major": 2,
       "version_minor": 0
      },
      "text/plain": [
       "trial:   0%|          | 0/100 [00:00<?, ?it/s]"
      ]
     },
     "metadata": {},
     "output_type": "display_data"
    },
    {
     "data": {
      "application/vnd.jupyter.widget-view+json": {
       "model_id": "2f8e97b3c8324f7c9a5b586303ae5591",
       "version_major": 2,
       "version_minor": 0
      },
      "text/plain": [
       "trial:   0%|          | 0/100 [00:00<?, ?it/s]"
      ]
     },
     "metadata": {},
     "output_type": "display_data"
    },
    {
     "data": {
      "application/vnd.jupyter.widget-view+json": {
       "model_id": "accd2b86133c448babc7e7de2909d02a",
       "version_major": 2,
       "version_minor": 0
      },
      "text/plain": [
       "trial:   0%|          | 0/100 [00:00<?, ?it/s]"
      ]
     },
     "metadata": {},
     "output_type": "display_data"
    },
    {
     "data": {
      "application/vnd.jupyter.widget-view+json": {
       "model_id": "4049adf5c81144ca99517f46e98092de",
       "version_major": 2,
       "version_minor": 0
      },
      "text/plain": [
       "trial:   0%|          | 0/100 [00:00<?, ?it/s]"
      ]
     },
     "metadata": {},
     "output_type": "display_data"
    },
    {
     "data": {
      "application/vnd.jupyter.widget-view+json": {
       "model_id": "1720420c248d4128bb43dcf03c240d94",
       "version_major": 2,
       "version_minor": 0
      },
      "text/plain": [
       "trial:   0%|          | 0/100 [00:00<?, ?it/s]"
      ]
     },
     "metadata": {},
     "output_type": "display_data"
    },
    {
     "data": {
      "application/vnd.jupyter.widget-view+json": {
       "model_id": "060fa295e293458e9c6879283984e7e3",
       "version_major": 2,
       "version_minor": 0
      },
      "text/plain": [
       "trial:   0%|          | 0/100 [00:00<?, ?it/s]"
      ]
     },
     "metadata": {},
     "output_type": "display_data"
    },
    {
     "data": {
      "application/vnd.jupyter.widget-view+json": {
       "model_id": "eb3fb444568443e892ab787989adfef7",
       "version_major": 2,
       "version_minor": 0
      },
      "text/plain": [
       "trial:   0%|          | 0/100 [00:00<?, ?it/s]"
      ]
     },
     "metadata": {},
     "output_type": "display_data"
    },
    {
     "data": {
      "application/vnd.jupyter.widget-view+json": {
       "model_id": "59765dfca5fb4b06b0b986b88bdeae5e",
       "version_major": 2,
       "version_minor": 0
      },
      "text/plain": [
       "trial:   0%|          | 0/100 [00:00<?, ?it/s]"
      ]
     },
     "metadata": {},
     "output_type": "display_data"
    },
    {
     "data": {
      "application/vnd.jupyter.widget-view+json": {
       "model_id": "54c34b24d3f54b6b977325364add3984",
       "version_major": 2,
       "version_minor": 0
      },
      "text/plain": [
       "trial:   0%|          | 0/100 [00:00<?, ?it/s]"
      ]
     },
     "metadata": {},
     "output_type": "display_data"
    },
    {
     "data": {
      "application/vnd.jupyter.widget-view+json": {
       "model_id": "c0830f1cb4d0470484eac7ee3da5b991",
       "version_major": 2,
       "version_minor": 0
      },
      "text/plain": [
       "trial:   0%|          | 0/100 [00:00<?, ?it/s]"
      ]
     },
     "metadata": {},
     "output_type": "display_data"
    },
    {
     "data": {
      "application/vnd.jupyter.widget-view+json": {
       "model_id": "5d22535907ff4c4d91c55a1a3539925a",
       "version_major": 2,
       "version_minor": 0
      },
      "text/plain": [
       "trial:   0%|          | 0/100 [00:00<?, ?it/s]"
      ]
     },
     "metadata": {},
     "output_type": "display_data"
    },
    {
     "data": {
      "application/vnd.jupyter.widget-view+json": {
       "model_id": "9739a92af9ed478b98fbd06f1ebccd6c",
       "version_major": 2,
       "version_minor": 0
      },
      "text/plain": [
       "trial:   0%|          | 0/100 [00:00<?, ?it/s]"
      ]
     },
     "metadata": {},
     "output_type": "display_data"
    },
    {
     "data": {
      "application/vnd.jupyter.widget-view+json": {
       "model_id": "021629ed722849f594319f34ee6c1dbc",
       "version_major": 2,
       "version_minor": 0
      },
      "text/plain": [
       "trial:   0%|          | 0/100 [00:00<?, ?it/s]"
      ]
     },
     "metadata": {},
     "output_type": "display_data"
    },
    {
     "data": {
      "application/vnd.jupyter.widget-view+json": {
       "model_id": "9e7727131cf0476c86ba22cbb7ee8dce",
       "version_major": 2,
       "version_minor": 0
      },
      "text/plain": [
       "trial:   0%|          | 0/100 [00:00<?, ?it/s]"
      ]
     },
     "metadata": {},
     "output_type": "display_data"
    },
    {
     "data": {
      "application/vnd.jupyter.widget-view+json": {
       "model_id": "5d5e4c713835486881434af5a3293351",
       "version_major": 2,
       "version_minor": 0
      },
      "text/plain": [
       "trial:   0%|          | 0/100 [00:00<?, ?it/s]"
      ]
     },
     "metadata": {},
     "output_type": "display_data"
    },
    {
     "data": {
      "application/vnd.jupyter.widget-view+json": {
       "model_id": "1b6995ac945743ad83f04eb0a59eca51",
       "version_major": 2,
       "version_minor": 0
      },
      "text/plain": [
       "trial:   0%|          | 0/100 [00:00<?, ?it/s]"
      ]
     },
     "metadata": {},
     "output_type": "display_data"
    },
    {
     "data": {
      "application/vnd.jupyter.widget-view+json": {
       "model_id": "8ee9924c545c47bb9e42fd313250e02f",
       "version_major": 2,
       "version_minor": 0
      },
      "text/plain": [
       "trial:   0%|          | 0/100 [00:00<?, ?it/s]"
      ]
     },
     "metadata": {},
     "output_type": "display_data"
    },
    {
     "data": {
      "application/vnd.jupyter.widget-view+json": {
       "model_id": "07a38362c9d44a2ba0b1f33bc730cfb1",
       "version_major": 2,
       "version_minor": 0
      },
      "text/plain": [
       "trial:   0%|          | 0/100 [00:00<?, ?it/s]"
      ]
     },
     "metadata": {},
     "output_type": "display_data"
    },
    {
     "data": {
      "application/vnd.jupyter.widget-view+json": {
       "model_id": "eb14ce251bab476185eb9d407c6836aa",
       "version_major": 2,
       "version_minor": 0
      },
      "text/plain": [
       "trial:   0%|          | 0/100 [00:00<?, ?it/s]"
      ]
     },
     "metadata": {},
     "output_type": "display_data"
    },
    {
     "data": {
      "application/vnd.jupyter.widget-view+json": {
       "model_id": "3cc18221b30d470d9b135fad2d1b2f96",
       "version_major": 2,
       "version_minor": 0
      },
      "text/plain": [
       "trial:   0%|          | 0/100 [00:00<?, ?it/s]"
      ]
     },
     "metadata": {},
     "output_type": "display_data"
    },
    {
     "data": {
      "application/vnd.jupyter.widget-view+json": {
       "model_id": "c3bbc0aa2bbb44f589676bcca42fccb0",
       "version_major": 2,
       "version_minor": 0
      },
      "text/plain": [
       "trial:   0%|          | 0/100 [00:00<?, ?it/s]"
      ]
     },
     "metadata": {},
     "output_type": "display_data"
    },
    {
     "data": {
      "application/vnd.jupyter.widget-view+json": {
       "model_id": "184e403ce97841d3a115525eca22d1e5",
       "version_major": 2,
       "version_minor": 0
      },
      "text/plain": [
       "trial:   0%|          | 0/100 [00:00<?, ?it/s]"
      ]
     },
     "metadata": {},
     "output_type": "display_data"
    },
    {
     "data": {
      "application/vnd.jupyter.widget-view+json": {
       "model_id": "5bbf806326794570b9c6a6cf8960d74b",
       "version_major": 2,
       "version_minor": 0
      },
      "text/plain": [
       "trial:   0%|          | 0/100 [00:00<?, ?it/s]"
      ]
     },
     "metadata": {},
     "output_type": "display_data"
    },
    {
     "data": {
      "application/vnd.jupyter.widget-view+json": {
       "model_id": "483d4d4b066d4ad0b36033f7e1ea8162",
       "version_major": 2,
       "version_minor": 0
      },
      "text/plain": [
       "trial:   0%|          | 0/100 [00:00<?, ?it/s]"
      ]
     },
     "metadata": {},
     "output_type": "display_data"
    },
    {
     "data": {
      "application/vnd.jupyter.widget-view+json": {
       "model_id": "5eeaa8e20c05475a9e5443c375774061",
       "version_major": 2,
       "version_minor": 0
      },
      "text/plain": [
       "trial:   0%|          | 0/100 [00:00<?, ?it/s]"
      ]
     },
     "metadata": {},
     "output_type": "display_data"
    },
    {
     "data": {
      "application/vnd.jupyter.widget-view+json": {
       "model_id": "dba2ee0e72ca4b69a665213f9ddf7b7e",
       "version_major": 2,
       "version_minor": 0
      },
      "text/plain": [
       "trial:   0%|          | 0/100 [00:00<?, ?it/s]"
      ]
     },
     "metadata": {},
     "output_type": "display_data"
    },
    {
     "data": {
      "application/vnd.jupyter.widget-view+json": {
       "model_id": "8994a50b27254bc89b846e055be188ff",
       "version_major": 2,
       "version_minor": 0
      },
      "text/plain": [
       "trial:   0%|          | 0/100 [00:00<?, ?it/s]"
      ]
     },
     "metadata": {},
     "output_type": "display_data"
    },
    {
     "data": {
      "application/vnd.jupyter.widget-view+json": {
       "model_id": "18b2d165758b434d8506ea9da1dcda5a",
       "version_major": 2,
       "version_minor": 0
      },
      "text/plain": [
       "trial:   0%|          | 0/100 [00:00<?, ?it/s]"
      ]
     },
     "metadata": {},
     "output_type": "display_data"
    },
    {
     "data": {
      "application/vnd.jupyter.widget-view+json": {
       "model_id": "20d9623660794cce96a0def57b54889b",
       "version_major": 2,
       "version_minor": 0
      },
      "text/plain": [
       "trial:   0%|          | 0/100 [00:00<?, ?it/s]"
      ]
     },
     "metadata": {},
     "output_type": "display_data"
    },
    {
     "data": {
      "application/vnd.jupyter.widget-view+json": {
       "model_id": "49ed02150d3240998eb9ebbcb3a67a6c",
       "version_major": 2,
       "version_minor": 0
      },
      "text/plain": [
       "trial:   0%|          | 0/100 [00:00<?, ?it/s]"
      ]
     },
     "metadata": {},
     "output_type": "display_data"
    },
    {
     "data": {
      "application/vnd.jupyter.widget-view+json": {
       "model_id": "40cfbbeee8624460b99d952e8d39f913",
       "version_major": 2,
       "version_minor": 0
      },
      "text/plain": [
       "trial:   0%|          | 0/100 [00:00<?, ?it/s]"
      ]
     },
     "metadata": {},
     "output_type": "display_data"
    },
    {
     "data": {
      "application/vnd.jupyter.widget-view+json": {
       "model_id": "0d049226787c43dc97d0455dc7774447",
       "version_major": 2,
       "version_minor": 0
      },
      "text/plain": [
       "trial:   0%|          | 0/100 [00:00<?, ?it/s]"
      ]
     },
     "metadata": {},
     "output_type": "display_data"
    },
    {
     "data": {
      "application/vnd.jupyter.widget-view+json": {
       "model_id": "41f9306d7f8b4ba7a7fe5ac70f900e1b",
       "version_major": 2,
       "version_minor": 0
      },
      "text/plain": [
       "trial:   0%|          | 0/100 [00:00<?, ?it/s]"
      ]
     },
     "metadata": {},
     "output_type": "display_data"
    },
    {
     "data": {
      "application/vnd.jupyter.widget-view+json": {
       "model_id": "3f3ede465f034f6489504ffd7af4c857",
       "version_major": 2,
       "version_minor": 0
      },
      "text/plain": [
       "trial:   0%|          | 0/100 [00:00<?, ?it/s]"
      ]
     },
     "metadata": {},
     "output_type": "display_data"
    },
    {
     "data": {
      "application/vnd.jupyter.widget-view+json": {
       "model_id": "6611ee011159401b85b124d3b30addc6",
       "version_major": 2,
       "version_minor": 0
      },
      "text/plain": [
       "trial:   0%|          | 0/100 [00:00<?, ?it/s]"
      ]
     },
     "metadata": {},
     "output_type": "display_data"
    },
    {
     "data": {
      "application/vnd.jupyter.widget-view+json": {
       "model_id": "a056f2113a154c45af83b6952a4698b2",
       "version_major": 2,
       "version_minor": 0
      },
      "text/plain": [
       "trial:   0%|          | 0/100 [00:00<?, ?it/s]"
      ]
     },
     "metadata": {},
     "output_type": "display_data"
    },
    {
     "data": {
      "application/vnd.jupyter.widget-view+json": {
       "model_id": "6d62a62cabf943e598f1aac3eab2dee6",
       "version_major": 2,
       "version_minor": 0
      },
      "text/plain": [
       "trial:   0%|          | 0/100 [00:00<?, ?it/s]"
      ]
     },
     "metadata": {},
     "output_type": "display_data"
    },
    {
     "data": {
      "application/vnd.jupyter.widget-view+json": {
       "model_id": "f76ada76e7c14d648d92317396c6bffb",
       "version_major": 2,
       "version_minor": 0
      },
      "text/plain": [
       "trial:   0%|          | 0/100 [00:00<?, ?it/s]"
      ]
     },
     "metadata": {},
     "output_type": "display_data"
    },
    {
     "data": {
      "application/vnd.jupyter.widget-view+json": {
       "model_id": "75c0f2acb85742ee852915b09defa47f",
       "version_major": 2,
       "version_minor": 0
      },
      "text/plain": [
       "trial:   0%|          | 0/100 [00:00<?, ?it/s]"
      ]
     },
     "metadata": {},
     "output_type": "display_data"
    }
   ],
   "source": [
    "# Generalized Kernel Fisher LD\n",
    "from tqdm.notebook import tqdm, trange\n",
    "\n",
    "train_accs = np.zeros(shape=(num_alpha_beta, num_trials))\n",
    "test_accs = np.zeros(shape=(num_alpha_beta, num_trials))\n",
    "\n",
    "for i, alpha_beta in enumerate(tqdm(alpha_betas, desc='alpha_beta')):\n",
    "    alpha = beta = alpha_beta\n",
    "\n",
    "    for trial in trange(num_trials, desc='trial', leave=False):\n",
    "\n",
    "        # create data split\n",
    "        X_train_trfm, X_test_trfm, y_train, y_test = create_data_split(X, y, test_size=0.2)\n",
    "\n",
    "        n_samples_train = len(X_train_trfm)\n",
    "        n_classes = len(np.unique(y_train))\n",
    "\n",
    "        # train model\n",
    "\n",
    "        fld_clf = sklearn.pipeline.Pipeline(steps=[('gfld', GeneralizedKernelFisherLD(n_components=n_classes - 1, \n",
    "                                                                                alpha=alpha, beta=beta, kernel='rbf')),\n",
    "                                                ('clf', classifier(**classifier_params))])\n",
    "\n",
    "        fld_clf.fit(X_train_trfm, y_train)\n",
    "\n",
    "        # log the accuracies\n",
    "        train_accs[i, trial] = fld_clf.score(X_train_trfm, y_train)\n",
    "        test_accs[i, trial] = fld_clf.score(X_test_trfm, y_test)\n",
    "\n",
    "kernel_fisher_results = (np.copy(train_accs), np.copy(test_accs))"
   ]
  },
  {
   "cell_type": "code",
   "execution_count": 10,
   "metadata": {},
   "outputs": [],
   "source": [
    "def get_avg_std(results):\n",
    "    return np.mean(results, axis=1), np.std(results, axis=1)\n",
    "\n",
    "fisher_acc_avg, fisher_acc_std = get_avg_std(fisher_results[1]) # generalized fisherface test accs\n",
    "kfisher_acc_avg, kfisher_acc_std = get_avg_std(kernel_fisher_results[1]) # generalized kernel fisherface test accs"
   ]
  },
  {
   "cell_type": "code",
   "execution_count": 11,
   "metadata": {},
   "outputs": [
    {
     "data": {
      "text/plain": [
       "<matplotlib.legend.Legend at 0x27b44e69490>"
      ]
     },
     "execution_count": 11,
     "metadata": {},
     "output_type": "execute_result"
    },
    {
     "data": {
      "image/png": "[encoded data removed]",
      "text/plain": [
       "<Figure size 800x480 with 1 Axes>"
      ]
     },
     "metadata": {},
     "output_type": "display_data"
    }
   ],
   "source": [
    "n_std = 1 # number of standard deviations for error bands\n",
    "plt.style.use('seaborn')\n",
    "fig, ax = plt.subplots(figsize=(10,6), dpi=80);\n",
    "\n",
    "# generalized fisherface\n",
    "ax.plot(alpha_betas, fisher_acc_avg, label='generalized fisherface'); # line of avg test acc\n",
    "ax.fill_between(alpha_betas, fisher_acc_avg - n_std * fisher_acc_std, fisher_acc_avg + n_std * fisher_acc_std, alpha=0.2) # estimate of error\n",
    "\n",
    "# kernel generalized fisherface\n",
    "ax.plot(alpha_betas, kfisher_acc_avg, label='generalized kernel fisherface'); # line of avg test acc\n",
    "ax.fill_between(alpha_betas, kfisher_acc_avg - n_std * kfisher_acc_std, kfisher_acc_avg + n_std * kfisher_acc_std, alpha=0.2) # estimate of error\n",
    "\n",
    "ax.set_title('Test Accuracy vs. $\\\\alpha = \\\\beta$');\n",
    "ax.set_xlabel('$\\\\alpha=\\\\beta$');\n",
    "ax.set_ylabel('Test Accuracy');\n",
    "\n",
    "ax.legend()"
   ]
  },
  {
   "cell_type": "code",
   "execution_count": 12,
   "metadata": {},
   "outputs": [],
   "source": [
    "data_dict = {'alpha_betas': alpha_betas, 'fisher_results': fisher_results, 'kernel_fisher_results': kernel_fisher_results}\n",
    "np.save('results.npy', data_dict)"
   ]
  }
 ],
 "metadata": {
  "environment": {
   "kernel": "python3",
   "name": "common-cpu.m90",
   "type": "gcloud",
   "uri": "gcr.io/deeplearning-platform-release/base-cpu:m90"
  },
  "interpreter": {
   "hash": "205d50f58f82a2b4d9ed38d5fc136ab30afd6ca8c2e73e92b6068ffbf36380d0"
  },
  "kernelspec": {
   "display_name": "Python 3",
   "language": "python",
   "name": "python3"
  },
  "language_info": {
   "codemirror_mode": {
    "name": "ipython",
    "version": 3
   },
   "file_extension": ".py",
   "mimetype": "text/x-python",
   "name": "python",
   "nbconvert_exporter": "python",
   "pygments_lexer": "ipython3",
   "version": "3.9.7"
  }
 },
 "nbformat": 4,
 "nbformat_minor": 4
}
